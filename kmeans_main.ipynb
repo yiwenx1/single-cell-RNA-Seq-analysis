{
 "cells": [
  {
   "cell_type": "code",
   "execution_count": null,
   "metadata": {},
   "outputs": [],
   "source": [
    "#!pip install celery"
   ]
  },
  {
   "cell_type": "code",
   "execution_count": null,
   "metadata": {},
   "outputs": [],
   "source": [
    "#!sudo rabbitmqctl add_user myguest myguestpwd\n",
    "#!sudo rabbitmqctl set_permissions -p / myguest \".\" \".\" \".*\""
   ]
  },
  {
   "cell_type": "code",
   "execution_count": null,
   "metadata": {},
   "outputs": [],
   "source": [
    "#!sudo rabbitmqctl list_users"
   ]
  },
  {
   "cell_type": "code",
   "execution_count": 73,
   "metadata": {},
   "outputs": [],
   "source": [
    "import random\n",
    "import time\n",
    "import numpy as np\n",
    "import matplotlib.pyplot as plt\n",
    "import json\n",
    "\n",
    "from sklearn.datasets import make_blobs\n",
    "from copy import deepcopy\n",
    "\n",
    "from celery import group\n",
    "from kmeans_workers import kmeans_tasks, dist, NumpyEncoder\n",
    "import pandas as pd"
   ]
  },
  {
   "cell_type": "code",
   "execution_count": 74,
   "metadata": {},
   "outputs": [],
   "source": [
    "n_clusters=3\n",
    "n_workers =4"
   ]
  },
  {
   "cell_type": "code",
   "execution_count": 75,
   "metadata": {
    "scrolled": true
   },
   "outputs": [],
   "source": [
    "# Creating a n_features=2 Dim dataset with centers=3 clusters\n",
    "# Xs, Ys = make_blobs(n_samples=n_samples, n_features=n_features, centers=n_clusters)\n",
    "Xs = pd.read_csv('./data/magic.csv')\n",
    "Xs = Xs.to_numpy()\n",
    "Xs = Xs[1:, 1:]\n",
    "Xs = np.array(Xs, dtype=float)\n",
    "v = np.min(Xs)\n",
    "myData = [{\"points\": x-v, \"label\": np.random.randint(n_clusters)} for x in Xs]"
   ]
  },
  {
   "cell_type": "code",
   "execution_count": 76,
   "metadata": {},
   "outputs": [],
   "source": [
    "n_samples=Xs.shape[0]\n",
    "n_features=Xs.shape[1]\n"
   ]
  },
  {
   "cell_type": "code",
   "execution_count": 77,
   "metadata": {},
   "outputs": [],
   "source": [
    "# print(len(mydata))\n",
    "# print(mydata[15]['points'],mydata[15]['label'])"
   ]
  },
  {
   "cell_type": "code",
   "execution_count": 78,
   "metadata": {},
   "outputs": [],
   "source": [
    "# Split the sequence in a number of chunks and process those independently.\n",
    "\n",
    "l = n_samples // n_workers\n",
    "Xsubseqs = [Xs[i * l:(i + 1) * l] for i in range(n_workers - 1)]\n",
    "Xsubseqs.append(Xs[(n_workers - 1) * l:])\n"
   ]
  },
  {
   "cell_type": "code",
   "execution_count": 79,
   "metadata": {},
   "outputs": [
    {
     "data": {
      "text/plain": [
       "372"
      ]
     },
     "execution_count": 79,
     "metadata": {},
     "output_type": "execute_result"
    }
   ],
   "source": [
    "len(Xsubseqs[0])"
   ]
  },
  {
   "cell_type": "code",
   "execution_count": 80,
   "metadata": {},
   "outputs": [
    {
     "data": {
      "text/plain": [
       "matrix([[0.74600319, 0.        , 0.        , ..., 0.        , 0.        ,\n",
       "         0.        ],\n",
       "        [0.        , 0.86150904, 0.        , ..., 0.        , 0.        ,\n",
       "         0.        ],\n",
       "        [0.        , 0.        , 0.69707936, ..., 0.        , 0.        ,\n",
       "         0.        ],\n",
       "        ...,\n",
       "        [0.        , 0.        , 0.        , ..., 0.58002254, 0.        ,\n",
       "         0.        ],\n",
       "        [0.        , 0.        , 0.        , ..., 0.        , 0.67384291,\n",
       "         0.        ],\n",
       "        [0.        , 0.        , 0.        , ..., 0.        , 0.        ,\n",
       "         0.64728397]])"
      ]
     },
     "execution_count": 80,
     "metadata": {},
     "output_type": "execute_result"
    }
   ],
   "source": [
    "np.matrix(np.diag(np.max(Xs,0)))"
   ]
  },
  {
   "cell_type": "code",
   "execution_count": 81,
   "metadata": {},
   "outputs": [
    {
     "name": "stdout",
     "output_type": "stream",
     "text": [
      "Initial Centroids\n",
      "[[0.67080281 0.85814192 0.21051431 ... 0.47875653 0.20211394 0.5953829 ]\n",
      " [0.65863741 0.05836373 0.54364247 ... 0.25879295 0.25451174 0.21323796]\n",
      " [0.12694551 0.78883301 0.44952325 ... 0.0744509  0.10276975 0.28307192]]\n"
     ]
    }
   ],
   "source": [
    "C=np.matrix(np.random.rand(n_clusters,n_features))*np.matrix(np.diag(np.max(Xs,0)))\n",
    "print(\"Initial Centroids\")\n",
    "print(C)\n"
   ]
  },
  {
   "cell_type": "code",
   "execution_count": 82,
   "metadata": {
    "scrolled": false
   },
   "outputs": [
    {
     "data": {
      "text/plain": [
       "<matplotlib.collections.PathCollection at 0x11849fb38>"
      ]
     },
     "execution_count": 82,
     "metadata": {},
     "output_type": "execute_result"
    },
    {
     "data": {
      "image/png": "[encoded data removed]",
      "text/plain": [
       "<Figure size 576x360 with 1 Axes>"
      ]
     },
     "metadata": {
      "needs_background": "light"
     },
     "output_type": "display_data"
    }
   ],
   "source": [
    "%matplotlib inline\n",
    "plt.rcParams['figure.figsize'] = (8, 5)\n",
    "fig = plt.figure()\n",
    "\n",
    "# Plotting along with the Centroids\n",
    "#plt.scatter([actdata.points[0] for actdata in mydata], [actdata.points[1] for actdata in mydata])\n",
    "plt.xlim(0.3, 0.5)\n",
    "plt.scatter([actdata['points'][0] for actdata in myData], [actdata['points'][1] for actdata in myData], c=[actdata['label'] for actdata in myData], s=7)\n",
    "\n",
    "plt.scatter(np.array(C[:,0]), np.array(C[:,1]), marker='*', s=200, c='g')\n"
   ]
  },
  {
   "cell_type": "code",
   "execution_count": 70,
   "metadata": {},
   "outputs": [],
   "source": [
    "# len([actdata['label'] for actdata in mydata])"
   ]
  },
  {
   "cell_type": "code",
   "execution_count": 71,
   "metadata": {},
   "outputs": [
    {
     "name": "stdout",
     "output_type": "stream",
     "text": [
      "56.84777318541074\n"
     ]
    }
   ],
   "source": [
    "# To store the value of centroids when it updates\n",
    "C_old = np.zeros(C.shape)\n",
    "# Error func. - Distance between new centroids and old centroids\n",
    "error = dist(C, C_old, None)\n",
    "print(error)"
   ]
  },
  {
   "cell_type": "code",
   "execution_count": null,
   "metadata": {},
   "outputs": [],
   "source": [
    "print(C)\n",
    "print(C.shape)"
   ]
  },
  {
   "cell_type": "code",
   "execution_count": null,
   "metadata": {},
   "outputs": [],
   "source": [
    "partials_Estep=[json.loads(kmeans_tasks(task='estep', json_dump = json.dumps({'C': C, 'X': seq}, cls=NumpyEncoder)))['X'] for seq in Xsubseqs]"
   ]
  },
  {
   "cell_type": "code",
   "execution_count": null,
   "metadata": {},
   "outputs": [],
   "source": [
    "# the updated labels are here:\n",
    "len(partials_Estep[0])"
   ]
  },
  {
   "cell_type": "code",
   "execution_count": null,
   "metadata": {},
   "outputs": [],
   "source": [
    "len(partials_Estep)"
   ]
  },
  {
   "cell_type": "code",
   "execution_count": null,
   "metadata": {},
   "outputs": [],
   "source": [
    "partials_Mstep=[json.loads(kmeans_tasks(task='mstep', json_dump = json.dumps({'X': seq, 'n_clusters': n_clusters, 'n_features':n_features}, cls=NumpyEncoder)))['C'] for seq in partials_Estep]"
   ]
  },
  {
   "cell_type": "code",
   "execution_count": null,
   "metadata": {},
   "outputs": [],
   "source": [
    "partials_Mstep"
   ]
  },
  {
   "cell_type": "code",
   "execution_count": null,
   "metadata": {},
   "outputs": [],
   "source": [
    "C=np.sum(partials_Mstep,0)/n_workers\n",
    "print(C)"
   ]
  },
  {
   "cell_type": "code",
   "execution_count": null,
   "metadata": {},
   "outputs": [],
   "source": [
    "# Storing the old centroid values\n",
    "C_old = deepcopy(C)\n",
    " "
   ]
  },
  {
   "cell_type": "code",
   "execution_count": null,
   "metadata": {},
   "outputs": [],
   "source": [
    "# Plotting along with the Centroids\n",
    "\n",
    "#plt.scatter([actdata.points[0] for actdata in mydata], [actdata.points[1] for actdata in mydata],c='#050505', s=7)\n",
    "plt.scatter([actdata['points'][0] for actdata in myData], [actdata['points'][1] for actdata in myData],c=[actdata['label'] for actdata in myData], s=7)\n",
    "plt.scatter(np.array(C[:,0]), np.array(C[:,1]), marker='*', s=200, c='g')\n"
   ]
  },
  {
   "cell_type": "markdown",
   "metadata": {},
   "source": [
    "### Everything together"
   ]
  },
  {
   "cell_type": "code",
   "execution_count": null,
   "metadata": {},
   "outputs": [
    {
     "name": "stdout",
     "output_type": "stream",
     "text": [
      "(3, 2753)\n",
      "*** we are in the E-Step ***\n",
      " *** Labels updated. E-step done ***\n",
      "*** we are in the E-Step ***\n",
      " *** Labels updated. E-step done ***\n",
      "*** we are in the E-Step ***\n",
      " *** Labels updated. E-step done ***\n",
      "*** we are in the E-Step ***\n",
      " *** Labels updated. E-step done ***\n",
      "*** we are in the M-Step ***\n",
      " *** Cluster centers updated. M-step done ***\n",
      "*** we are in the M-Step ***\n",
      " *** Cluster centers updated. M-step done ***\n",
      "*** we are in the M-Step ***\n",
      " *** Cluster centers updated. M-step done ***\n",
      "*** we are in the M-Step ***\n",
      " *** Cluster centers updated. M-step done ***\n",
      "0.0\n",
      "372\n",
      "372\n",
      "372\n",
      "374\n"
     ]
    },
    {
     "data": {
      "image/png": "[encoded data removed]",
      "text/plain": [
       "<Figure size 576x360 with 1 Axes>"
      ]
     },
     "metadata": {
      "needs_background": "light"
     },
     "output_type": "display_data"
    },
    {
     "data": {
      "image/png": "[encoded data removed]",
      "text/plain": [
       "<Figure size 576x360 with 1 Axes>"
      ]
     },
     "metadata": {
      "needs_background": "light"
     },
     "output_type": "display_data"
    },
    {
     "name": "stdout",
     "output_type": "stream",
     "text": [
      "(3, 2753)\n",
      "*** we are in the E-Step ***\n",
      " *** Labels updated. E-step done ***\n",
      "*** we are in the E-Step ***\n",
      " *** Labels updated. E-step done ***\n",
      "*** we are in the E-Step ***\n",
      " *** Labels updated. E-step done ***\n",
      "*** we are in the E-Step ***\n",
      " *** Labels updated. E-step done ***\n",
      "*** we are in the M-Step ***\n",
      " *** Cluster centers updated. M-step done ***\n",
      "*** we are in the M-Step ***\n",
      " *** Cluster centers updated. M-step done ***\n",
      "*** we are in the M-Step ***\n",
      " *** Cluster centers updated. M-step done ***\n",
      "*** we are in the M-Step ***\n",
      " *** Cluster centers updated. M-step done ***\n",
      "0.0\n",
      "372\n",
      "372\n",
      "372\n",
      "374\n"
     ]
    },
    {
     "data": {
      "image/png": "[encoded data removed]",
      "text/plain": [
       "<Figure size 576x360 with 1 Axes>"
      ]
     },
     "metadata": {
      "needs_background": "light"
     },
     "output_type": "display_data"
    },
    {
     "name": "stdout",
     "output_type": "stream",
     "text": [
      "(3, 2753)\n",
      "*** we are in the E-Step ***\n",
      " *** Labels updated. E-step done ***\n",
      "*** we are in the E-Step ***\n",
      " *** Labels updated. E-step done ***\n",
      "*** we are in the E-Step ***\n",
      " *** Labels updated. E-step done ***\n",
      "*** we are in the E-Step ***\n",
      " *** Labels updated. E-step done ***\n",
      "*** we are in the M-Step ***\n",
      " *** Cluster centers updated. M-step done ***\n",
      "*** we are in the M-Step ***\n",
      " *** Cluster centers updated. M-step done ***\n",
      "*** we are in the M-Step ***\n",
      " *** Cluster centers updated. M-step done ***\n",
      "*** we are in the M-Step ***\n",
      " *** Cluster centers updated. M-step done ***\n",
      "0.0\n",
      "372\n",
      "372\n",
      "372\n",
      "374\n"
     ]
    },
    {
     "data": {
      "image/png": "[encoded data removed]",
      "text/plain": [
       "<Figure size 576x360 with 1 Axes>"
      ]
     },
     "metadata": {
      "needs_background": "light"
     },
     "output_type": "display_data"
    },
    {
     "name": "stdout",
     "output_type": "stream",
     "text": [
      "(3, 2753)\n",
      "*** we are in the E-Step ***\n",
      " *** Labels updated. E-step done ***\n",
      "*** we are in the E-Step ***\n",
      " *** Labels updated. E-step done ***\n",
      "*** we are in the E-Step ***\n",
      " *** Labels updated. E-step done ***\n",
      "*** we are in the E-Step ***\n",
      " *** Labels updated. E-step done ***\n",
      "*** we are in the M-Step ***\n",
      " *** Cluster centers updated. M-step done ***\n",
      "*** we are in the M-Step ***\n",
      " *** Cluster centers updated. M-step done ***\n",
      "*** we are in the M-Step ***\n",
      " *** Cluster centers updated. M-step done ***\n",
      "*** we are in the M-Step ***\n",
      " *** Cluster centers updated. M-step done ***\n",
      "0.0\n",
      "372\n",
      "372\n",
      "372\n",
      "374\n"
     ]
    },
    {
     "data": {
      "image/png": "[encoded data removed]",
      "text/plain": [
       "<Figure size 576x360 with 1 Axes>"
      ]
     },
     "metadata": {
      "needs_background": "light"
     },
     "output_type": "display_data"
    },
    {
     "name": "stdout",
     "output_type": "stream",
     "text": [
      "(3, 2753)\n",
      "*** we are in the E-Step ***\n",
      " *** Labels updated. E-step done ***\n",
      "*** we are in the E-Step ***\n",
      " *** Labels updated. E-step done ***\n",
      "*** we are in the E-Step ***\n",
      " *** Labels updated. E-step done ***\n"
     ]
    }
   ],
   "source": [
    "# Split the sequence in a number of chunks and process those independently.\n",
    "n_workers = 4\n",
    "n_iter = 5\n",
    "\n",
    "l = n_samples // n_workers\n",
    "Xsubseqs = [myData[i * l:(i + 1) * l] for i in range(n_workers - 1)]\n",
    "Xsubseqs.append(myData[(n_workers - 1) * l:])\n",
    "C=np.matrix(np.random.rand(n_clusters,n_features))*np.matrix(np.diag(np.max(Xs,0)))\n",
    "\n",
    "#plt.scatter([actdata.points[0] for actdata in mydata], [actdata.points[1] for actdata in mydata],c='#050505', s=7)\n",
    "plt.scatter([actdata[\"points\"][0] for actdata in myData], [actdata[\"points\"][1] for actdata in myData], c=[actdata['label'] for actdata in myData], s=7)\n",
    "plt.scatter(np.array(C[:,0]), np.array(C[:,1]), marker='*', s=200, c='g')\n",
    "\n",
    "for iter in range(0, n_iter):    \n",
    "\n",
    "    print(C.shape)\n",
    "    \n",
    "    #class assignnment\n",
    "    partials_Estep=[json.loads(kmeans_tasks(task='estep', json_dump = json.dumps({'C': C, 'X': seq}, cls=NumpyEncoder)))['X'] for seq in Xsubseqs]\n",
    "    \n",
    "    #centroid update assignnment\n",
    "    partials_Mstep=[json.loads(kmeans_tasks(task='mstep', json_dump = json.dumps({'X': seq, 'n_clusters': n_clusters, 'n_features':n_features}, cls=NumpyEncoder)))['C'] for seq in partials_Estep]\n",
    "    \n",
    "    C=np.sum(partials_Mstep,0)/n_workers\n",
    "    C_old = deepcopy(C)\n",
    "    error = dist(C, C_old, None)\n",
    "    print(error)\n",
    "\n",
    "    Xsubseqs=deepcopy(partials_Estep)\n",
    "    \n",
    "    mydata_updated=[]\n",
    "    for seq in partials_Estep:\n",
    "        mydata_updated.extend(seq)\n",
    "        print(len(seq))\n",
    "    len(mydata_updated)\n",
    "\n",
    "    plt.rcParams['figure.figsize'] = (8, 5)\n",
    "    fig = plt.figure()\n",
    "#     plt.xlim(0.007, 0.0115)\n",
    "    plt.scatter([actdata['points'][0] for actdata in mydata_updated], [actdata['points'][1] for actdata in mydata_updated],c=[actdata['label'] for actdata in mydata_updated], s=7)\n",
    "\n",
    "    plt.scatter(np.array(C[:,0]), np.array(C[:,1]), marker='*', s=200, c='g')\n",
    "    plt.show()\n",
    "    \n",
    "    #time.sleep(2)\n"
   ]
  },
  {
   "cell_type": "markdown",
   "metadata": {},
   "source": [
    "### Distributed Kmeans"
   ]
  },
  {
   "cell_type": "code",
   "execution_count": null,
   "metadata": {},
   "outputs": [],
   "source": [
    "# Split the sequence in a number of chunks and process those independently.\n",
    "n_workers = 4\n",
    "n_iter =5\n",
    "\n",
    "l = n_samples // n_workers\n",
    "Xsubseqs = [mydata[i * l:(i + 1) * l] for i in range(n_workers - 1)]\n",
    "Xsubseqs.append(mydata[(n_workers - 1) * l:])\n",
    "C=np.matrix(np.random.rand(n_clusters,n_features))*np.matrix(np.diag(np.max(Xs,0)))\n",
    "\n",
    "#plt.scatter([actdata.points[0] for actdata in mydata], [actdata.points[1] for actdata in mydata],c='#050505', s=7)\n",
    "plt.scatter([actdata['points'][0] for actdata in mydata], [actdata['points'][1] for actdata in mydata],c=[actdata['label'] for actdata in mydata], s=7)\n",
    "plt.scatter(np.array(C[:,0]), np.array(C[:,1]), marker='*', s=200, c='g')\n"
   ]
  },
  {
   "cell_type": "code",
   "execution_count": null,
   "metadata": {},
   "outputs": [],
   "source": [
    "#class assignnment\n",
    "#lazy_partials_Estep = group(kmeans_tasks.s(task='estep', json_dump = json.dumps({'C': C, 'X': seq}, cls=NumpyEncoder)) for seq in Xsubseqs)() \n",
    "# call remote workers to run the sort task \n",
    "#tmp_partials_Estep = lazy_partials_Estep.get() # will wait for the tasks to return\n"
   ]
  },
  {
   "cell_type": "code",
   "execution_count": null,
   "metadata": {},
   "outputs": [],
   "source": [
    "for iter in range(0, n_iter):    \n",
    "\n",
    "    print(C.shape)\n",
    "    \n",
    "    #class assignnment\n",
    "    lazy_partials_Estep = group(kmeans_tasks.s(task='estep', json_dump = json.dumps({'C': C, 'X': seq}, cls=NumpyEncoder)) \n",
    "                                               for seq in Xsubseqs)() \n",
    "    # call remote workers to run the sort task \n",
    "    tmp_partials_Estep = lazy_partials_Estep.get() # will wait for the tasks to return\n",
    "    partials_Estep=[json.loads(seq)['X'] for seq in tmp_partials_Estep]\n",
    "\n",
    "    #partials_Estep=[kmeans_tasks(task='estep', json_dump = json.dumps({'C': C, 'X': seq}, cls=NumpyEncoder)) for seq in Xsubseqs]\n",
    "    \n",
    "    #centroid update assignnment\n",
    "    lazy_partials_Mstep = group(kmeans_tasks.s(task='mstep', json_dump = \n",
    "                                               json.dumps({'X': seq, 'n_clusters': n_clusters, 'n_features':n_features}, \n",
    "                                                          cls=NumpyEncoder)) for seq in partials_Estep)()\n",
    "    tmp_partials_Mstep = lazy_partials_Mstep.get()  \n",
    "    partials_Mstep=[json.loads(seq)['C'] for seq in tmp_partials_Mstep]\n",
    "    #partials_Mstep=[kmeans_tasks(task='mstep', json_dump = json.dumps({'X': seq, 'n_clusters': n_clusters, 'n_features':n_features}, cls=NumpyEncoder)) for seq in partials_Estep]\n",
    "    \n",
    "    C=np.sum(partials_Mstep,0)/n_workers\n",
    "    C_old = deepcopy(C)\n",
    "    error = dist(C, C_old, None)\n",
    "    print(error)\n",
    "\n",
    "    Xsubseqs=deepcopy(partials_Estep)\n",
    "    \n",
    "    # plotting\n",
    "    mydata_updated=[]\n",
    "    for seq in partials_Estep:\n",
    "        mydata_updated.extend(seq)\n",
    "        print(len(seq))\n",
    "    len(mydata_updated)\n",
    "\n",
    "    plt.rcParams['figure.figsize'] = (8, 5)\n",
    "    fig = plt.figure()\n",
    "    plt.scatter([actdata['points'][0] for actdata in mydata_updated], [actdata['points'][1] for actdata in mydata_updated],c=[actdata['label'] for actdata in mydata_updated], s=7)\n",
    "\n",
    "    plt.scatter(np.array(C[:,0]), np.array(C[:,1]), marker='*', s=200, c='g')\n",
    "    plt.show()\n",
    "    \n",
    "    #time.sleep(2)\n",
    "\n",
    "    \n",
    "    \n",
    "\n"
   ]
  },
  {
   "cell_type": "code",
   "execution_count": null,
   "metadata": {},
   "outputs": [],
   "source": []
  },
  {
   "cell_type": "code",
   "execution_count": null,
   "metadata": {},
   "outputs": [],
   "source": []
  }
 ],
 "metadata": {
  "kernelspec": {
   "display_name": "Python 3",
   "language": "python",
   "name": "python3"
  }
 },
 "nbformat": 4,
 "nbformat_minor": 2
}
